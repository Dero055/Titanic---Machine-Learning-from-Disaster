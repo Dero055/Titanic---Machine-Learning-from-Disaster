{
  "nbformat": 4,
  "nbformat_minor": 0,
  "metadata": {
    "kernelspec": {
      "display_name": "Python 3",
      "language": "python",
      "name": "python3"
    },
    "language_info": {
      "codemirror_mode": {
        "name": "ipython",
        "version": 3
      },
      "file_extension": ".py",
      "mimetype": "text/x-python",
      "name": "python",
      "nbconvert_exporter": "python",
      "pygments_lexer": "ipython3",
      "version": "3.7.4"
    },
    "colab": {
      "name": "Final Titanic.ipynb",
      "provenance": [],
      "collapsed_sections": [
        "xL2x62vsiFW7",
        "RLSCiXtSFFtB",
        "T81lsKuZFFtE",
        "QFfA2oa9teor",
        "Y5dLPVgbt09c",
        "ITSpCmiHFFtT",
        "kFP4oeyjFFtW"
      ]
    }
  },
  "cells": [
    {
      "cell_type": "markdown",
      "metadata": {
        "id": "fEsvfam0pv3K"
      },
      "source": [
        "**Đề tài:** Titanic: Machine Learning from Disaster\n",
        "\n",
        "\n",
        "*   List item\n",
        "*   List item\n",
        "\n",
        "\n",
        "\n",
        "**Tên nhóm:** CTT2 - **STT:** 7\n",
        "\n",
        "**Hạng:** 418 - **Điểm:** 0.83253\n"
      ]
    },
    {
      "cell_type": "code",
      "metadata": {
        "id": "IuKnpsETFFsp",
        "colab": {
          "base_uri": "https://localhost:8080/",
          "height": 70
        },
        "outputId": "05925f5f-3b25-47ac-bd02-4dd154dd7a5a"
      },
      "source": [
        "#Import thư viện \n",
        "\n",
        "# NumPy\n",
        "import numpy as np\n",
        "\n",
        "# Dataframe operations\n",
        "import pandas as pd\n",
        "\n",
        "# Data visualization\n",
        "import seaborn as sns\n",
        "import matplotlib.pyplot as plt\n",
        "\n",
        "# Scalers\n",
        "from sklearn.preprocessing import MinMaxScaler\n",
        "from sklearn.preprocessing import StandardScaler\n",
        "from sklearn.utils import shuffle\n",
        "\n",
        "# Models\n",
        "#from sklearn.linear_model import LogisticRegression #logistic regression\n",
        "#from sklearn.linear_model import Perceptron\n",
        "from sklearn.svm import SVC, LinearSVC #support vector Machine\n",
        "from sklearn.ensemble import RandomForestClassifier #Random Forest\n",
        "from sklearn.neighbors import KNeighborsClassifier #KNN\n",
        "#from sklearn.naive_bayes import GaussianNB #Naive bayes\n",
        "from sklearn.tree import DecisionTreeClassifier #Decision Tree\n",
        "from xgboost import XGBClassifier\n",
        "from sklearn.model_selection import train_test_split #training and testing data split\n",
        "from sklearn import metrics #accuracy measure\n",
        "from sklearn.metrics import confusion_matrix #for confusion matrix\n",
        "from sklearn.ensemble import VotingClassifier\n",
        "from sklearn.ensemble import AdaBoostClassifier\n",
        "from sklearn.neural_network import MLPClassifier\n",
        "\n",
        "# Cross-validation\n",
        "from sklearn.model_selection import KFold #for K-fold cross validation\n",
        "from sklearn.model_selection import cross_val_score #score evaluation\n",
        "from sklearn.model_selection import cross_val_predict #prediction\n",
        "from sklearn.model_selection import cross_validate\n",
        "\n",
        "# GridSearchCV\n",
        "from sklearn.model_selection import GridSearchCV\n",
        "\n",
        "#Common Model Algorithms\n",
        "from sklearn import svm, tree, linear_model, neighbors, naive_bayes, ensemble, discriminant_analysis, gaussian_process\n",
        "\n",
        "#Common Model Helpers\n",
        "from sklearn.preprocessing import OneHotEncoder, LabelEncoder\n",
        "from sklearn import feature_selection\n",
        "from sklearn import model_selection\n",
        "from sklearn import metrics\n",
        "from sklearn.metrics import accuracy_score\n",
        "\n",
        "#Visualization\n",
        "import matplotlib as mpl\n",
        "import matplotlib.pyplot as plt\n",
        "import matplotlib.pylab as pylab\n",
        "import seaborn as sns\n",
        "#from pandas.tools.plotting import scatter_matrix\n",
        "from IPython.display import Image\n"
      ],
      "execution_count": null,
      "outputs": [
        {
          "output_type": "stream",
          "text": [
            "/usr/local/lib/python3.6/dist-packages/statsmodels/tools/_testing.py:19: FutureWarning: pandas.util.testing is deprecated. Use the functions in the public API at pandas.testing instead.\n",
            "  import pandas.util.testing as tm\n"
          ],
          "name": "stderr"
        }
      ]
    },
    {
      "cell_type": "markdown",
      "metadata": {
        "_cell_guid": "d49e43e8-0dc0-41b7-afd0-60acc96e9f07",
        "_uuid": "4ecd55c5bd48390d026eeb6ae8de0a7ace0d4ada",
        "id": "Hp4W-zi2FFst"
      },
      "source": [
        "## **1/ Khám phá dữ liệu**"
      ]
    },
    {
      "cell_type": "code",
      "metadata": {
        "id": "9mhtwStkxeJw",
        "colab": {
          "base_uri": "https://localhost:8080/",
          "height": 121
        },
        "outputId": "740b6fed-d470-436b-ee32-a13a4c3f821b"
      },
      "source": [
        "from google.colab import drive\n",
        "drive.mount('/content/drive', force_remount=True)"
      ],
      "execution_count": null,
      "outputs": [
        {
          "output_type": "stream",
          "text": [
            "Go to this URL in a browser: https://accounts.google.com/o/oauth2/auth?client_id=947318989803-6bn6qk8qdgf4n4g3pfee6491hc0brc4i.apps.googleusercontent.com&redirect_uri=urn%3aietf%3awg%3aoauth%3a2.0%3aoob&response_type=code&scope=email%20https%3a%2f%2fwww.googleapis.com%2fauth%2fdocs.test%20https%3a%2f%2fwww.googleapis.com%2fauth%2fdrive%20https%3a%2f%2fwww.googleapis.com%2fauth%2fdrive.photos.readonly%20https%3a%2f%2fwww.googleapis.com%2fauth%2fpeopleapi.readonly\n",
            "\n",
            "Enter your authorization code:\n",
            "··········\n",
            "Mounted at /content/drive\n"
          ],
          "name": "stdout"
        }
      ]
    },
    {
      "cell_type": "code",
      "metadata": {
        "id": "ZGEj_crPw-8O",
        "colab": {
          "base_uri": "https://localhost:8080/",
          "height": 52
        },
        "outputId": "6b6e1c55-7e5f-4a6a-8f11-0a01ef3bf11d"
      },
      "source": [
        "%cd '/content/drive/My Drive/Colab Notebooks/Titanic'\n",
        "%pwd"
      ],
      "execution_count": null,
      "outputs": [
        {
          "output_type": "stream",
          "text": [
            "/content/drive/My Drive/Colab Notebooks/Titanic\n"
          ],
          "name": "stdout"
        },
        {
          "output_type": "execute_result",
          "data": {
            "application/vnd.google.colaboratory.intrinsic": {
              "type": "string"
            },
            "text/plain": [
              "'/content/drive/My Drive/Colab Notebooks/Titanic'"
            ]
          },
          "metadata": {
            "tags": []
          },
          "execution_count": 3
        }
      ]
    },
    {
      "cell_type": "code",
      "metadata": {
        "_cell_guid": "9c963eb3-04ac-422c-bc0c-4373bda6880e",
        "_uuid": "95f406c4d2f1dab6744ea248b80e3a535c652450",
        "id": "zRhp64jGFFst"
      },
      "source": [
        "train_df = pd.read_csv(\"train.csv\")\n",
        "test_df = pd.read_csv(\"test.csv\")\n",
        "data_df = train_df.append(test_df) # Tập dữ liệu gồm: train + test."
      ],
      "execution_count": null,
      "outputs": []
    },
    {
      "cell_type": "code",
      "metadata": {
        "id": "_q6C2vs1zCnf",
        "colab": {
          "base_uri": "https://localhost:8080/",
          "height": 402
        },
        "outputId": "0e0f5d60-06f8-4bc7-e5aa-004485e5c37d"
      },
      "source": [
        "train_df"
      ],
      "execution_count": null,
      "outputs": [
        {
          "output_type": "execute_result",
          "data": {
            "text/html": [
              "<div>\n",
              "<style scoped>\n",
              "    .dataframe tbody tr th:only-of-type {\n",
              "        vertical-align: middle;\n",
              "    }\n",
              "\n",
              "    .dataframe tbody tr th {\n",
              "        vertical-align: top;\n",
              "    }\n",
              "\n",
              "    .dataframe thead th {\n",
              "        text-align: right;\n",
              "    }\n",
              "</style>\n",
              "<table border=\"1\" class=\"dataframe\">\n",
              "  <thead>\n",
              "    <tr style=\"text-align: right;\">\n",
              "      <th></th>\n",
              "      <th>PassengerId</th>\n",
              "      <th>Survived</th>\n",
              "      <th>Pclass</th>\n",
              "      <th>Name</th>\n",
              "      <th>Sex</th>\n",
              "      <th>Age</th>\n",
              "      <th>SibSp</th>\n",
              "      <th>Parch</th>\n",
              "      <th>Ticket</th>\n",
              "      <th>Fare</th>\n",
              "      <th>Cabin</th>\n",
              "      <th>Embarked</th>\n",
              "    </tr>\n",
              "  </thead>\n",
              "  <tbody>\n",
              "    <tr>\n",
              "      <th>0</th>\n",
              "      <td>1</td>\n",
              "      <td>0</td>\n",
              "      <td>3</td>\n",
              "      <td>Braund, Mr. Owen Harris</td>\n",
              "      <td>male</td>\n",
              "      <td>22.0</td>\n",
              "      <td>1</td>\n",
              "      <td>0</td>\n",
              "      <td>A/5 21171</td>\n",
              "      <td>7.2500</td>\n",
              "      <td>NaN</td>\n",
              "      <td>S</td>\n",
              "    </tr>\n",
              "    <tr>\n",
              "      <th>1</th>\n",
              "      <td>2</td>\n",
              "      <td>1</td>\n",
              "      <td>1</td>\n",
              "      <td>Cumings, Mrs. John Bradley (Florence Briggs Th...</td>\n",
              "      <td>female</td>\n",
              "      <td>38.0</td>\n",
              "      <td>1</td>\n",
              "      <td>0</td>\n",
              "      <td>PC 17599</td>\n",
              "      <td>71.2833</td>\n",
              "      <td>C85</td>\n",
              "      <td>C</td>\n",
              "    </tr>\n",
              "    <tr>\n",
              "      <th>2</th>\n",
              "      <td>3</td>\n",
              "      <td>1</td>\n",
              "      <td>3</td>\n",
              "      <td>Heikkinen, Miss. Laina</td>\n",
              "      <td>female</td>\n",
              "      <td>26.0</td>\n",
              "      <td>0</td>\n",
              "      <td>0</td>\n",
              "      <td>STON/O2. 3101282</td>\n",
              "      <td>7.9250</td>\n",
              "      <td>NaN</td>\n",
              "      <td>S</td>\n",
              "    </tr>\n",
              "    <tr>\n",
              "      <th>3</th>\n",
              "      <td>4</td>\n",
              "      <td>1</td>\n",
              "      <td>1</td>\n",
              "      <td>Futrelle, Mrs. Jacques Heath (Lily May Peel)</td>\n",
              "      <td>female</td>\n",
              "      <td>35.0</td>\n",
              "      <td>1</td>\n",
              "      <td>0</td>\n",
              "      <td>113803</td>\n",
              "      <td>53.1000</td>\n",
              "      <td>C123</td>\n",
              "      <td>S</td>\n",
              "    </tr>\n",
              "    <tr>\n",
              "      <th>4</th>\n",
              "      <td>5</td>\n",
              "      <td>0</td>\n",
              "      <td>3</td>\n",
              "      <td>Allen, Mr. William Henry</td>\n",
              "      <td>male</td>\n",
              "      <td>35.0</td>\n",
              "      <td>0</td>\n",
              "      <td>0</td>\n",
              "      <td>373450</td>\n",
              "      <td>8.0500</td>\n",
              "      <td>NaN</td>\n",
              "      <td>S</td>\n",
              "    </tr>\n",
              "    <tr>\n",
              "      <th>...</th>\n",
              "      <td>...</td>\n",
              "      <td>...</td>\n",
              "      <td>...</td>\n",
              "      <td>...</td>\n",
              "      <td>...</td>\n",
              "      <td>...</td>\n",
              "      <td>...</td>\n",
              "      <td>...</td>\n",
              "      <td>...</td>\n",
              "      <td>...</td>\n",
              "      <td>...</td>\n",
              "      <td>...</td>\n",
              "    </tr>\n",
              "    <tr>\n",
              "      <th>886</th>\n",
              "      <td>887</td>\n",
              "      <td>0</td>\n",
              "      <td>2</td>\n",
              "      <td>Montvila, Rev. Juozas</td>\n",
              "      <td>male</td>\n",
              "      <td>27.0</td>\n",
              "      <td>0</td>\n",
              "      <td>0</td>\n",
              "      <td>211536</td>\n",
              "      <td>13.0000</td>\n",
              "      <td>NaN</td>\n",
              "      <td>S</td>\n",
              "    </tr>\n",
              "    <tr>\n",
              "      <th>887</th>\n",
              "      <td>888</td>\n",
              "      <td>1</td>\n",
              "      <td>1</td>\n",
              "      <td>Graham, Miss. Margaret Edith</td>\n",
              "      <td>female</td>\n",
              "      <td>19.0</td>\n",
              "      <td>0</td>\n",
              "      <td>0</td>\n",
              "      <td>112053</td>\n",
              "      <td>30.0000</td>\n",
              "      <td>B42</td>\n",
              "      <td>S</td>\n",
              "    </tr>\n",
              "    <tr>\n",
              "      <th>888</th>\n",
              "      <td>889</td>\n",
              "      <td>0</td>\n",
              "      <td>3</td>\n",
              "      <td>Johnston, Miss. Catherine Helen \"Carrie\"</td>\n",
              "      <td>female</td>\n",
              "      <td>NaN</td>\n",
              "      <td>1</td>\n",
              "      <td>2</td>\n",
              "      <td>W./C. 6607</td>\n",
              "      <td>23.4500</td>\n",
              "      <td>NaN</td>\n",
              "      <td>S</td>\n",
              "    </tr>\n",
              "    <tr>\n",
              "      <th>889</th>\n",
              "      <td>890</td>\n",
              "      <td>1</td>\n",
              "      <td>1</td>\n",
              "      <td>Behr, Mr. Karl Howell</td>\n",
              "      <td>male</td>\n",
              "      <td>26.0</td>\n",
              "      <td>0</td>\n",
              "      <td>0</td>\n",
              "      <td>111369</td>\n",
              "      <td>30.0000</td>\n",
              "      <td>C148</td>\n",
              "      <td>C</td>\n",
              "    </tr>\n",
              "    <tr>\n",
              "      <th>890</th>\n",
              "      <td>891</td>\n",
              "      <td>0</td>\n",
              "      <td>3</td>\n",
              "      <td>Dooley, Mr. Patrick</td>\n",
              "      <td>male</td>\n",
              "      <td>32.0</td>\n",
              "      <td>0</td>\n",
              "      <td>0</td>\n",
              "      <td>370376</td>\n",
              "      <td>7.7500</td>\n",
              "      <td>NaN</td>\n",
              "      <td>Q</td>\n",
              "    </tr>\n",
              "  </tbody>\n",
              "</table>\n",
              "<p>891 rows × 12 columns</p>\n",
              "</div>"
            ],
            "text/plain": [
              "     PassengerId  Survived  Pclass  ...     Fare Cabin  Embarked\n",
              "0              1         0       3  ...   7.2500   NaN         S\n",
              "1              2         1       1  ...  71.2833   C85         C\n",
              "2              3         1       3  ...   7.9250   NaN         S\n",
              "3              4         1       1  ...  53.1000  C123         S\n",
              "4              5         0       3  ...   8.0500   NaN         S\n",
              "..           ...       ...     ...  ...      ...   ...       ...\n",
              "886          887         0       2  ...  13.0000   NaN         S\n",
              "887          888         1       1  ...  30.0000   B42         S\n",
              "888          889         0       3  ...  23.4500   NaN         S\n",
              "889          890         1       1  ...  30.0000  C148         C\n",
              "890          891         0       3  ...   7.7500   NaN         Q\n",
              "\n",
              "[891 rows x 12 columns]"
            ]
          },
          "metadata": {
            "tags": []
          },
          "execution_count": 5
        }
      ]
    },
    {
      "cell_type": "code",
      "metadata": {
        "id": "xRo7HL12QD3U",
        "colab": {
          "base_uri": "https://localhost:8080/",
          "height": 571
        },
        "outputId": "e011da42-38d7-4a51-dbbe-372d3c55bc8a"
      },
      "source": [
        "#Thông tin rập dữ liệu huấn luyện\n",
        "train_df.info()\n",
        "print('-'*100)\n",
        "train_df.isnull().sum()"
      ],
      "execution_count": null,
      "outputs": [
        {
          "output_type": "stream",
          "text": [
            "<class 'pandas.core.frame.DataFrame'>\n",
            "RangeIndex: 891 entries, 0 to 890\n",
            "Data columns (total 12 columns):\n",
            " #   Column       Non-Null Count  Dtype  \n",
            "---  ------       --------------  -----  \n",
            " 0   PassengerId  891 non-null    int64  \n",
            " 1   Survived     891 non-null    int64  \n",
            " 2   Pclass       891 non-null    int64  \n",
            " 3   Name         891 non-null    object \n",
            " 4   Sex          891 non-null    object \n",
            " 5   Age          714 non-null    float64\n",
            " 6   SibSp        891 non-null    int64  \n",
            " 7   Parch        891 non-null    int64  \n",
            " 8   Ticket       891 non-null    object \n",
            " 9   Fare         891 non-null    float64\n",
            " 10  Cabin        204 non-null    object \n",
            " 11  Embarked     889 non-null    object \n",
            "dtypes: float64(2), int64(5), object(5)\n",
            "memory usage: 83.7+ KB\n",
            "----------------------------------------------------------------------------------------------------\n"
          ],
          "name": "stdout"
        },
        {
          "output_type": "execute_result",
          "data": {
            "text/plain": [
              "PassengerId      0\n",
              "Survived         0\n",
              "Pclass           0\n",
              "Name             0\n",
              "Sex              0\n",
              "Age            177\n",
              "SibSp            0\n",
              "Parch            0\n",
              "Ticket           0\n",
              "Fare             0\n",
              "Cabin          687\n",
              "Embarked         2\n",
              "dtype: int64"
            ]
          },
          "metadata": {
            "tags": []
          },
          "execution_count": 6
        }
      ]
    },
    {
      "cell_type": "code",
      "metadata": {
        "id": "AWKig0NOwY1-",
        "colab": {
          "base_uri": "https://localhost:8080/",
          "height": 1000
        },
        "outputId": "3bc3ec9f-4e4f-4221-da5f-04da8e5109e0"
      },
      "source": [
        "col=['Survived','Pclass','Sex','SibSp','Parch','Ticket','Cabin','Embarked']\n",
        "for i in col:\n",
        "  print(i)\n",
        "  print(train_df[i].value_counts())\n",
        "  print('-'*100)"
      ],
      "execution_count": null,
      "outputs": [
        {
          "output_type": "stream",
          "text": [
            "Survived\n",
            "0    549\n",
            "1    342\n",
            "Name: Survived, dtype: int64\n",
            "----------------------------------------------------------------------------------------------------\n",
            "Pclass\n",
            "3    491\n",
            "1    216\n",
            "2    184\n",
            "Name: Pclass, dtype: int64\n",
            "----------------------------------------------------------------------------------------------------\n",
            "Sex\n",
            "male      577\n",
            "female    314\n",
            "Name: Sex, dtype: int64\n",
            "----------------------------------------------------------------------------------------------------\n",
            "SibSp\n",
            "0    608\n",
            "1    209\n",
            "2     28\n",
            "4     18\n",
            "3     16\n",
            "8      7\n",
            "5      5\n",
            "Name: SibSp, dtype: int64\n",
            "----------------------------------------------------------------------------------------------------\n",
            "Parch\n",
            "0    678\n",
            "1    118\n",
            "2     80\n",
            "5      5\n",
            "3      5\n",
            "4      4\n",
            "6      1\n",
            "Name: Parch, dtype: int64\n",
            "----------------------------------------------------------------------------------------------------\n",
            "Ticket\n",
            "1601        7\n",
            "347082      7\n",
            "CA. 2343    7\n",
            "CA 2144     6\n",
            "3101295     6\n",
            "           ..\n",
            "371060      1\n",
            "347743      1\n",
            "248723      1\n",
            "28665       1\n",
            "345778      1\n",
            "Name: Ticket, Length: 681, dtype: int64\n",
            "----------------------------------------------------------------------------------------------------\n",
            "Cabin\n",
            "G6             4\n",
            "B96 B98        4\n",
            "C23 C25 C27    4\n",
            "E101           3\n",
            "F33            3\n",
            "              ..\n",
            "C45            1\n",
            "B82 B84        1\n",
            "E58            1\n",
            "E10            1\n",
            "A7             1\n",
            "Name: Cabin, Length: 147, dtype: int64\n",
            "----------------------------------------------------------------------------------------------------\n",
            "Embarked\n",
            "S    644\n",
            "C    168\n",
            "Q     77\n",
            "Name: Embarked, dtype: int64\n",
            "----------------------------------------------------------------------------------------------------\n"
          ],
          "name": "stdout"
        }
      ]
    },
    {
      "cell_type": "code",
      "metadata": {
        "id": "nVFRgvW9XDmH",
        "colab": {
          "base_uri": "https://localhost:8080/",
          "height": 284
        },
        "outputId": "8aa70beb-544b-4de7-a2de-75746a6588e3"
      },
      "source": [
        "train_df.describe()\n"
      ],
      "execution_count": null,
      "outputs": [
        {
          "output_type": "execute_result",
          "data": {
            "text/html": [
              "<div>\n",
              "<style scoped>\n",
              "    .dataframe tbody tr th:only-of-type {\n",
              "        vertical-align: middle;\n",
              "    }\n",
              "\n",
              "    .dataframe tbody tr th {\n",
              "        vertical-align: top;\n",
              "    }\n",
              "\n",
              "    .dataframe thead th {\n",
              "        text-align: right;\n",
              "    }\n",
              "</style>\n",
              "<table border=\"1\" class=\"dataframe\">\n",
              "  <thead>\n",
              "    <tr style=\"text-align: right;\">\n",
              "      <th></th>\n",
              "      <th>PassengerId</th>\n",
              "      <th>Survived</th>\n",
              "      <th>Pclass</th>\n",
              "      <th>Age</th>\n",
              "      <th>SibSp</th>\n",
              "      <th>Parch</th>\n",
              "      <th>Fare</th>\n",
              "    </tr>\n",
              "  </thead>\n",
              "  <tbody>\n",
              "    <tr>\n",
              "      <th>count</th>\n",
              "      <td>891.000000</td>\n",
              "      <td>891.000000</td>\n",
              "      <td>891.000000</td>\n",
              "      <td>714.000000</td>\n",
              "      <td>891.000000</td>\n",
              "      <td>891.000000</td>\n",
              "      <td>891.000000</td>\n",
              "    </tr>\n",
              "    <tr>\n",
              "      <th>mean</th>\n",
              "      <td>446.000000</td>\n",
              "      <td>0.383838</td>\n",
              "      <td>2.308642</td>\n",
              "      <td>29.699118</td>\n",
              "      <td>0.523008</td>\n",
              "      <td>0.381594</td>\n",
              "      <td>32.204208</td>\n",
              "    </tr>\n",
              "    <tr>\n",
              "      <th>std</th>\n",
              "      <td>257.353842</td>\n",
              "      <td>0.486592</td>\n",
              "      <td>0.836071</td>\n",
              "      <td>14.526497</td>\n",
              "      <td>1.102743</td>\n",
              "      <td>0.806057</td>\n",
              "      <td>49.693429</td>\n",
              "    </tr>\n",
              "    <tr>\n",
              "      <th>min</th>\n",
              "      <td>1.000000</td>\n",
              "      <td>0.000000</td>\n",
              "      <td>1.000000</td>\n",
              "      <td>0.420000</td>\n",
              "      <td>0.000000</td>\n",
              "      <td>0.000000</td>\n",
              "      <td>0.000000</td>\n",
              "    </tr>\n",
              "    <tr>\n",
              "      <th>25%</th>\n",
              "      <td>223.500000</td>\n",
              "      <td>0.000000</td>\n",
              "      <td>2.000000</td>\n",
              "      <td>20.125000</td>\n",
              "      <td>0.000000</td>\n",
              "      <td>0.000000</td>\n",
              "      <td>7.910400</td>\n",
              "    </tr>\n",
              "    <tr>\n",
              "      <th>50%</th>\n",
              "      <td>446.000000</td>\n",
              "      <td>0.000000</td>\n",
              "      <td>3.000000</td>\n",
              "      <td>28.000000</td>\n",
              "      <td>0.000000</td>\n",
              "      <td>0.000000</td>\n",
              "      <td>14.454200</td>\n",
              "    </tr>\n",
              "    <tr>\n",
              "      <th>75%</th>\n",
              "      <td>668.500000</td>\n",
              "      <td>1.000000</td>\n",
              "      <td>3.000000</td>\n",
              "      <td>38.000000</td>\n",
              "      <td>1.000000</td>\n",
              "      <td>0.000000</td>\n",
              "      <td>31.000000</td>\n",
              "    </tr>\n",
              "    <tr>\n",
              "      <th>max</th>\n",
              "      <td>891.000000</td>\n",
              "      <td>1.000000</td>\n",
              "      <td>3.000000</td>\n",
              "      <td>80.000000</td>\n",
              "      <td>8.000000</td>\n",
              "      <td>6.000000</td>\n",
              "      <td>512.329200</td>\n",
              "    </tr>\n",
              "  </tbody>\n",
              "</table>\n",
              "</div>"
            ],
            "text/plain": [
              "       PassengerId    Survived      Pclass  ...       SibSp       Parch        Fare\n",
              "count   891.000000  891.000000  891.000000  ...  891.000000  891.000000  891.000000\n",
              "mean    446.000000    0.383838    2.308642  ...    0.523008    0.381594   32.204208\n",
              "std     257.353842    0.486592    0.836071  ...    1.102743    0.806057   49.693429\n",
              "min       1.000000    0.000000    1.000000  ...    0.000000    0.000000    0.000000\n",
              "25%     223.500000    0.000000    2.000000  ...    0.000000    0.000000    7.910400\n",
              "50%     446.000000    0.000000    3.000000  ...    0.000000    0.000000   14.454200\n",
              "75%     668.500000    1.000000    3.000000  ...    1.000000    0.000000   31.000000\n",
              "max     891.000000    1.000000    3.000000  ...    8.000000    6.000000  512.329200\n",
              "\n",
              "[8 rows x 7 columns]"
            ]
          },
          "metadata": {
            "tags": []
          },
          "execution_count": 8
        }
      ]
    },
    {
      "cell_type": "code",
      "metadata": {
        "id": "YdyUAHMCSUNw",
        "colab": {
          "base_uri": "https://localhost:8080/",
          "height": 554
        },
        "outputId": "cfaebd9d-fe1f-4d35-839d-a45d5982bddb"
      },
      "source": [
        "corr=data_df.corr()\n",
        "mask=np.zeros_like(corr,dtype=np.bool)\n",
        "mask[np.triu_indices_from(mask)]=True\n",
        "f,ax=plt.subplots(figsize=(11,9))\n",
        "cmap=sns.diverging_palette(220,10,as_cmap=True)\n",
        "sns.heatmap(corr, mask=mask, cmap=cmap, center=0, \n",
        "            square=True,linewidths=.5, cbar_kws={'shrink':0.5 },annot=True, annot_kws={'fontsize':12 }\n",
        ")"
      ],
      "execution_count": null,
      "outputs": [
        {
          "output_type": "execute_result",
          "data": {
            "text/plain": [
              "<matplotlib.axes._subplots.AxesSubplot at 0x7fd3849a5198>"
            ]
          },
          "metadata": {
            "tags": []
          },
          "execution_count": 9
        },
        {
          "output_type": "display_data",
          "data": {
            "image/png": "[encoded data removed]",
            "text/plain": [
              "<Figure size 792x648 with 2 Axes>"
            ]
          },
          "metadata": {
            "tags": [],
            "needs_background": "light"
          }
        }
      ]
    },
    {
      "cell_type": "markdown",
      "metadata": {
        "_cell_guid": "687a06ef-2686-4772-ac24-5e413adbda6d",
        "_uuid": "3846eff13d723fa6ff10117fc3ebc46f266b210f",
        "id": "LWZpjQf0FFsx"
      },
      "source": [
        "#**II/ Tiền xử lý**"
      ]
    },
    {
      "cell_type": "code",
      "metadata": {
        "id": "cmPeuxv7YdoV"
      },
      "source": [
        "def bar_chart(feature):\n",
        "    survived = train_df[train_df['Survived']==1][feature].value_counts()\n",
        "    dead = train_df[train_df['Survived']==0][feature].value_counts()\n",
        "    df = pd.DataFrame([survived,dead])\n",
        "    df.index = ['Survived','Dead']\n",
        "    df.plot(kind='bar',stacked=True, figsize=(15,9))"
      ],
      "execution_count": null,
      "outputs": []
    },
    {
      "cell_type": "markdown",
      "metadata": {
        "id": "_6nz9nytPHmy"
      },
      "source": [
        "## 1/ Age"
      ]
    },
    {
      "cell_type": "markdown",
      "metadata": {
        "id": "fUlFxfKVPOXD"
      },
      "source": [
        "Chúng ta sẽ bắt đầu xử lý thuộc tính Age.\n",
        "\n",
        "Đầu tiên cần phải xử lý các giá trị khuyết. Chúng ta nhận thấy rằng, tùy theo mỗi độ tuổi khác nhau mà mỗi người sẽ có title (chức vị) như: Miss hay Ms. Do đó chúng ta có thể tính độ tuổi cho từng chức vị này (tính theo median) rồi điền vào vào những vị trí bị khuyết tương ứng"
      ]
    },
    {
      "cell_type": "code",
      "metadata": {
        "id": "VmJGdPZgXk_e",
        "colab": {
          "base_uri": "https://localhost:8080/",
          "height": 336
        },
        "outputId": "76b171a6-39e5-466e-a9b4-d869d1a0a98f"
      },
      "source": [
        "# Chúng ta tạo thêm feature Title\n",
        "data_df['Title'] = data_df['Name']\n",
        "# Lấy title của mỗi mẫu từ Name\n",
        "for name_string in data_df['Name']:\n",
        "    d=data_df['Title'] = data_df['Name'].str.extract('([A-Za-z]+)\\.', expand=True)\n",
        "data_df['Title'].value_counts()\n",
        "train_df['Title'] = data_df['Title'][:891]\n",
        "test_df['Title'] = data_df['Title'][891:]\n",
        "data_df['Title'].value_counts()\n"
      ],
      "execution_count": null,
      "outputs": [
        {
          "output_type": "execute_result",
          "data": {
            "text/plain": [
              "Mr          757\n",
              "Miss        260\n",
              "Mrs         197\n",
              "Master       61\n",
              "Dr            8\n",
              "Rev           8\n",
              "Col           4\n",
              "Major         2\n",
              "Ms            2\n",
              "Mlle          2\n",
              "Don           1\n",
              "Mme           1\n",
              "Lady          1\n",
              "Capt          1\n",
              "Jonkheer      1\n",
              "Dona          1\n",
              "Countess      1\n",
              "Sir           1\n",
              "Name: Title, dtype: int64"
            ]
          },
          "metadata": {
            "tags": []
          },
          "execution_count": 11
        }
      ]
    },
    {
      "cell_type": "code",
      "metadata": {
        "_cell_guid": "46535259-a34c-4305-b19e-b6772834c2b1",
        "_uuid": "811b1c66a647266d203e54175918a2c906e98ee5",
        "id": "Iw3dXmzBFFs0"
      },
      "source": [
        "# Thay thế Title có tần số xuất hiện ít bằng những title phổ biến hơn (vẫn giữ nguyên giới tính)\n",
        "mapping = {'Mlle': 'Miss', 'Major': 'Mr', 'Col': 'Mr', 'Sir': 'Mr', 'Don': 'Mr', 'Mme': 'Miss',\n",
        "          'Jonkheer': 'Mr', 'Lady': 'Mrs', 'Capt': 'Mr', 'Countess': 'Mrs', 'Ms': 'Miss', 'Dona': 'Mrs'}\n",
        "data_df.replace({'Title': mapping}, inplace=True)\n",
        "train_df['Title'] = data_df['Title'][:891]\n",
        "test_df['Title'] = data_df['Title'][891:]\n",
        "titles = ['Dr', 'Master', 'Miss', 'Mr', 'Mrs', 'Rev']\n",
        "#Điền những giá trị Age bị missing theo Title\n",
        "for title in titles:\n",
        "    age_to_impute = data_df.groupby('Title')['Age'].median()[titles.index(title)]\n",
        "    data_df.loc[(data_df['Age'].isnull()) & (data_df['Title'] == title), 'Age'] = age_to_impute\n",
        "train_df['Age'] = data_df['Age'][:891]\n",
        "test_df['Age'] = data_df['Age'][891:]"
      ],
      "execution_count": null,
      "outputs": []
    },
    {
      "cell_type": "code",
      "metadata": {
        "id": "L9PaMnzfiU5k",
        "colab": {
          "base_uri": "https://localhost:8080/",
          "height": 297
        },
        "outputId": "5583bbd1-416e-4a36-f04a-3eea6ff3cee7"
      },
      "source": [
        "facet = sns.FacetGrid(train_df, hue=\"Survived\",height=4,aspect=4)\n",
        "facet.map(sns.kdeplot,'Age',shade= True)\n",
        "facet.set(xlim=(0, train_df['Age'].max()))\n",
        "facet.add_legend()\n",
        "plt.grid()\n",
        "plt.show()"
      ],
      "execution_count": null,
      "outputs": [
        {
          "output_type": "display_data",
          "data": {
            "image/png": "[encoded data removed]",
            "text/plain": [
              "<Figure size 1203.88x288 with 1 Axes>"
            ]
          },
          "metadata": {
            "tags": [],
            "needs_background": "light"
          }
        }
      ]
    },
    {
      "cell_type": "markdown",
      "metadata": {
        "id": "W3ieLjyCoptk"
      },
      "source": [
        "Trong vùng từ [23,34] dường như có độ chênh lệch khá lớn giữa tỷ lệ: \n",
        "(Survived=0)/ (Survived=1)"
      ]
    },
    {
      "cell_type": "code",
      "metadata": {
        "id": "x-COsc7XZXFX"
      },
      "source": [
        "# Tạo feature 'Mid', feature có vai trò cho biết những ai có độ tuổi trong khoảng 24 - 23\n",
        "age=list(data_df['Age'])\n",
        "for i in range(len(age)):\n",
        "    if(age[i]<=33 and age[i]>24):\n",
        "        age[i]=1\n",
        "    else:\n",
        "        age[i]=0\n",
        "data_df['Mid']=age\n",
        "train_df['Mid'] = data_df['Mid'][:891]\n",
        "test_df['Mid'] = data_df['Mid'][891:]\n",
        "\n",
        "train_df.drop(['Age'], 1, inplace=True)\n",
        "test_df.drop(['Age'], 1, inplace=True)"
      ],
      "execution_count": null,
      "outputs": []
    },
    {
      "cell_type": "markdown",
      "metadata": {
        "id": "xL2x62vsiFW7"
      },
      "source": [
        "## 2/ Title"
      ]
    },
    {
      "cell_type": "code",
      "metadata": {
        "id": "T18j9WbpadGl",
        "colab": {
          "base_uri": "https://localhost:8080/",
          "height": 571
        },
        "outputId": "80a939f3-8d1e-4668-e9ed-00e1fa01cf2b"
      },
      "source": [
        "bar_chart('Title')"
      ],
      "execution_count": null,
      "outputs": [
        {
          "output_type": "display_data",
          "data": {
            "image/png": "[encoded data removed]",
            "text/plain": [
              "<Figure size 1080x648 with 1 Axes>"
            ]
          },
          "metadata": {
            "tags": [],
            "needs_background": "light"
          }
        }
      ]
    },
    {
      "cell_type": "markdown",
      "metadata": {
        "id": "EqClOf36hd_8"
      },
      "source": [
        "Ta thấy rằng, mỗi title sẽ có tỷ lệ sống sót khác nhau, do đó ta đặt trọng số cho mỗi Title"
      ]
    },
    {
      "cell_type": "code",
      "metadata": {
        "id": "Ph0sWOK1bJtA"
      },
      "source": [
        "mapping = {'Dr': 5, 'Master': 6, 'Miss': 10, 'Mr': 2, 'Mrs': 11, 'Rev': 0}\n",
        "data_df.replace({'Title': mapping}, inplace=True)\n",
        "train_df['Title'] = data_df['Title'][:891]\n",
        "test_df['Title'] = data_df['Title'][891:]"
      ],
      "execution_count": null,
      "outputs": []
    },
    {
      "cell_type": "markdown",
      "metadata": {
        "_cell_guid": "4c6142e2-e351-4063-81a6-4836b4ab1b18",
        "_uuid": "ee4ddbb2ef693943bb766083c4bfc1ef4f173103",
        "id": "pc3MQ3uFFFs3"
      },
      "source": [
        "## 3/ Family_Survival\n"
      ]
    },
    {
      "cell_type": "markdown",
      "metadata": {
        "id": "XqJGuhyWpoJs"
      },
      "source": [
        "Tại đây chúng ta sẽ tạo thêm feature Family_Size. Feature này cho biết số thành viên trong cùng 1 gia đình trên chuyến tàu. Bởi có nhiều khả năng những gia đình càng đông thành viên thì khả năng chết cả gia đình rất cao"
      ]
    },
    {
      "cell_type": "code",
      "metadata": {
        "_cell_guid": "c181cefb-edd6-4d46-95c8-67b89d83ca1c",
        "_uuid": "d562760d23fa303cb93069f339bbab01fcd96486",
        "id": "55qaEFWRFFs3"
      },
      "source": [
        "data_df['Family_Size'] = data_df['Parch'] + data_df['SibSp']\n",
        "\n",
        "# Substituting Age values in TRAIN_DF and TEST_DF:\n",
        "train_df['Family_Size'] = data_df['Family_Size'][:891]\n",
        "test_df['Family_Size'] = data_df['Family_Size'][891:]\n",
        "\n",
        "size=list(data_df['Family_Size'])\n",
        "for i in range(len(size)):\n",
        "    if(size[i]>=4):\n",
        "        size[i]=1\n",
        "    else:\n",
        "        size[i]=0\n",
        "data_df['Big']=size\n",
        "train_df['Big'] = data_df['Big'][:891]\n",
        "test_df['Big'] = data_df['Big'][891:]"
      ],
      "execution_count": null,
      "outputs": []
    },
    {
      "cell_type": "markdown",
      "metadata": {
        "_cell_guid": "463912c1-1f64-4fb4-9196-969f29dbbd8a",
        "_uuid": "984ac1ddd587b2aec9d520f3281c3d52208de7e8",
        "id": "MbT86u49FFs5"
      },
      "source": [
        "Chúng ta sẽ thêm feature Family_Survival. Feature này cho biết các thành viên trong gia đình với hành khách có sống sót hay không? Tuy nhiên, làm thế nào để tìm ra các hành khách thuộc cùng gia đình? Ta sẽ giả sử rằng: hai khành hách có cùng họ và có cùng giá vé sẽ thuộc 1 gia đình"
      ]
    },
    {
      "cell_type": "code",
      "metadata": {
        "_cell_guid": "5939ba63-cead-4af6-86b9-587f433d63ec",
        "_uuid": "d01422f5894c381d88e036808a5aa1ba9f48b00d",
        "id": "Z4ESQ1s7FFs6",
        "colab": {
          "base_uri": "https://localhost:8080/",
          "height": 34
        },
        "outputId": "ad7f4176-5249-4b7f-cb76-01f30d5107bb"
      },
      "source": [
        "data_df['Last_Name'] = data_df['Name'].apply(lambda x: str.split(x, \",\")[0])\n",
        "data_df['Fare'].fillna(data_df['Fare'].mean(), inplace=True)\n",
        "\n",
        "DEFAULT_SURVIVAL_VALUE = 0.35\n",
        "data_df['Family_Survival'] = DEFAULT_SURVIVAL_VALUE\n",
        "\n",
        "for grp, grp_df in data_df[['Survived','Name', 'Last_Name', 'Fare', 'Ticket', 'PassengerId',\n",
        "                           'SibSp', 'Parch', 'Age', 'Cabin']].groupby(['Last_Name', 'Fare']):\n",
        "    \n",
        "    if (len(grp_df) != 1):\n",
        "        # A Family group is found.\n",
        "        for ind, row in grp_df.iterrows():\n",
        "            smax = grp_df.drop(ind)['Survived'].max()\n",
        "            smin = grp_df.drop(ind)['Survived'].min()\n",
        "            passID = row['PassengerId']\n",
        "            if (smax == 1.0):\n",
        "                data_df.loc[data_df['PassengerId'] == passID, 'Family_Survival'] = 1\n",
        "            elif (smin==0.0):\n",
        "                data_df.loc[data_df['PassengerId'] == passID, 'Family_Survival'] = 0\n",
        "\n",
        "print(\"Number of passengers with family survival information:\", \n",
        "      data_df.loc[data_df['Family_Survival']!=0.35].shape[0])"
      ],
      "execution_count": null,
      "outputs": [
        {
          "output_type": "stream",
          "text": [
            "Number of passengers with family survival information: 420\n"
          ],
          "name": "stdout"
        }
      ]
    },
    {
      "cell_type": "markdown",
      "metadata": {
        "id": "M1D1e3D2qu4Y"
      },
      "source": [
        "Vẫn còn 1 trường hợp khác làm giảm khả năng sống. Đó là những hành khác đi chung với nhau theo nhóm: ví dụ như bạn bè. Chúng ta sẽ giả sử những hành khách mà có cùng 1 vé thì đi theo nhóm với nhau."
      ]
    },
    {
      "cell_type": "code",
      "metadata": {
        "_cell_guid": "8f31cc67-1425-4e2b-8a29-4fa97b87dcdc",
        "_uuid": "3e19ae6012724aa5f8cee2b1b69af975ad42ac4c",
        "id": "jHOmE-DRFFs8",
        "colab": {
          "base_uri": "https://localhost:8080/",
          "height": 34
        },
        "outputId": "05d55809-ab0e-4947-e653-5a37bf4a73bd"
      },
      "source": [
        "for _, grp_df in data_df.groupby('Ticket'):\n",
        "    if (len(grp_df) != 1):\n",
        "        for ind, row in grp_df.iterrows():\n",
        "            if (row['Family_Survival'] == 0) | (row['Family_Survival']== 0.35):\n",
        "                smax = grp_df.drop(ind)['Survived'].max()\n",
        "                smin = grp_df.drop(ind)['Survived'].min()\n",
        "                passID = row['PassengerId']\n",
        "                if (smax == 1.0):\n",
        "                    data_df.loc[data_df['PassengerId'] == passID, 'Family_Survival'] = 1\n",
        "                elif (smin==0.0):\n",
        "                    data_df.loc[data_df['PassengerId'] == passID, 'Family_Survival'] = 0\n",
        "                        \n",
        "print(\"Number of passenger with family/group survival information: \" \n",
        "      +str(data_df[data_df['Family_Survival']!=0.35].shape[0]))\n",
        "\n",
        "# # Family_Survival in TRAIN_DF and TEST_DF:\n",
        "train_df['Family_Survival'] = data_df['Family_Survival'][:891]\n",
        "test_df['Family_Survival'] = data_df['Family_Survival'][891:]"
      ],
      "execution_count": null,
      "outputs": [
        {
          "output_type": "stream",
          "text": [
            "Number of passenger with family/group survival information: 546\n"
          ],
          "name": "stdout"
        }
      ]
    },
    {
      "cell_type": "markdown",
      "metadata": {
        "_cell_guid": "8f5064af-21a0-4172-9565-24345d232db8",
        "_uuid": "b903a6f5c2bcfb587a722c4903c84389cae1b163",
        "id": "RLSCiXtSFFtB"
      },
      "source": [
        "## 4/ Fare\n"
      ]
    },
    {
      "cell_type": "markdown",
      "metadata": {
        "id": "U6JIJpKwstPO"
      },
      "source": [
        "Chúng ta cần phải rời rạc hóa thuộc tính này\n"
      ]
    },
    {
      "cell_type": "code",
      "metadata": {
        "_cell_guid": "084602ad-6739-441a-a153-23ed0de0a2df",
        "_uuid": "87e965a43b010f8589d3559c13829c5f8a7445d0",
        "id": "0zYukHzLFFtC"
      },
      "source": [
        "data_df['Fare'].fillna(data_df['Fare'].median(), inplace = True)\n",
        "\n",
        "# Making Bins\n",
        "data_df['FareBin'] = pd.qcut(data_df['Fare'], 5)\n",
        "\n",
        "label = LabelEncoder()\n",
        "data_df['FareBin_Code'] = label.fit_transform(data_df['FareBin'])\n",
        "\n",
        "train_df['FareBin_Code'] = data_df['FareBin_Code'][:891]\n",
        "test_df['FareBin_Code'] = data_df['FareBin_Code'][891:]\n",
        "\n",
        "train_df.drop(['Fare'], 1, inplace=True)\n",
        "test_df.drop(['Fare'], 1, inplace=True)\n"
      ],
      "execution_count": null,
      "outputs": []
    },
    {
      "cell_type": "markdown",
      "metadata": {
        "_cell_guid": "9ed9de97-5f49-48c4-91a5-a2fdd019ee7a",
        "_uuid": "94052ac922229ec3b1bd7d29ead82c2bea76e2b5",
        "id": "T81lsKuZFFtE"
      },
      "source": [
        "##5/ Sex\n"
      ]
    },
    {
      "cell_type": "code",
      "metadata": {
        "id": "P6QW6rmztZQr",
        "colab": {
          "base_uri": "https://localhost:8080/",
          "height": 571
        },
        "outputId": "e5c9e79e-6a70-4038-f0bb-0c37ab62af52"
      },
      "source": [
        "bar_chart('Sex')"
      ],
      "execution_count": null,
      "outputs": [
        {
          "output_type": "display_data",
          "data": {
            "image/png": "[encoded data removed]",
            "text/plain": [
              "<Figure size 1080x648 with 1 Axes>"
            ]
          },
          "metadata": {
            "tags": [],
            "needs_background": "light"
          }
        }
      ]
    },
    {
      "cell_type": "markdown",
      "metadata": {
        "id": "Y0SUuEVT6sjr"
      },
      "source": [
        "Giữa Nam và Nữ có sự chênh lệch về tỷ lệ sống / chết. Dường như có vẻ tỷ lệ sống sót của phụ nữ cao hơn. Do đó, ta đặt trọng số cho giới tính nữ"
      ]
    },
    {
      "cell_type": "code",
      "metadata": {
        "id": "7fvMYla5tccr"
      },
      "source": [
        "train_df['Sex'].replace(['male','female'],[0,10],inplace=True)\n",
        "test_df['Sex'].replace(['male','female'],[0,10],inplace=True)"
      ],
      "execution_count": null,
      "outputs": []
    },
    {
      "cell_type": "markdown",
      "metadata": {
        "id": "QFfA2oa9teor"
      },
      "source": [
        "##6/ Plcass:"
      ]
    },
    {
      "cell_type": "code",
      "metadata": {
        "id": "1yGL4BTY4tLk",
        "colab": {
          "base_uri": "https://localhost:8080/",
          "height": 810
        },
        "outputId": "0587d561-9e7e-4f8f-c61f-0c891a0195da"
      },
      "source": [
        "Image(url= \"https://static1.squarespace.com/static/5006453fe4b09ef2252ba068/t/5090b249e4b047ba54dfd258/1351660113175/TItanic-Survival-Infographic.jpg?format=1500w\",retina=True)\n"
      ],
      "execution_count": null,
      "outputs": [
        {
          "output_type": "execute_result",
          "data": {
            "text/html": [
              "<img src=\"https://static1.squarespace.com/static/5006453fe4b09ef2252ba068/t/5090b249e4b047ba54dfd258/1351660113175/TItanic-Survival-Infographic.jpg?format=1500w\"/>"
            ],
            "text/plain": [
              "<IPython.core.display.Image object>"
            ]
          },
          "metadata": {
            "tags": []
          },
          "execution_count": 23
        }
      ]
    },
    {
      "cell_type": "code",
      "metadata": {
        "id": "tTfEfYGDtmjL",
        "colab": {
          "base_uri": "https://localhost:8080/",
          "height": 571
        },
        "outputId": "2d47ce6e-6223-41ae-8c1c-5d7875118904"
      },
      "source": [
        "bar_chart('Pclass')"
      ],
      "execution_count": null,
      "outputs": [
        {
          "output_type": "display_data",
          "data": {
            "image/png": "[encoded data removed]",
            "text/plain": [
              "<Figure size 1080x648 with 1 Axes>"
            ]
          },
          "metadata": {
            "tags": [],
            "needs_background": "light"
          }
        }
      ]
    },
    {
      "cell_type": "markdown",
      "metadata": {
        "id": "QGThiAfL68HL"
      },
      "source": [
        "Mỗi Plass có tỷ lệ sống sót khác nhau, ta cần phải đặt trọng số cho mỗi Pclass"
      ]
    },
    {
      "cell_type": "code",
      "metadata": {
        "_cell_guid": "b5c6cdd4-3211-4032-b9e3-7a4e4dd49858",
        "_uuid": "33361df2ab42f24ba31471d2dd8b8bd49f1f1151",
        "id": "t4SLI3IEFFtL"
      },
      "source": [
        "train_df['Pclass'].replace([1,2,3],[1,5,14],inplace=True)\n",
        "test_df['Pclass'].replace([1,2,3],[1,5,14],inplace=True)\n"
      ],
      "execution_count": null,
      "outputs": []
    },
    {
      "cell_type": "markdown",
      "metadata": {
        "id": "Y5dLPVgbt09c"
      },
      "source": [
        "## 7/ Xóa đi những feature không có giá trị"
      ]
    },
    {
      "cell_type": "code",
      "metadata": {
        "id": "harNLDxEFFtN"
      },
      "source": [
        "train_df.drop(['Name', 'PassengerId', 'SibSp', 'Parch', 'Ticket', 'Cabin',\n",
        "               'Embarked'], axis = 1, inplace = True)\n",
        "test_df.drop(['Name','PassengerId', 'SibSp', 'Parch', 'Ticket', 'Cabin',\n",
        "              'Embarked'], axis = 1, inplace = True)"
      ],
      "execution_count": null,
      "outputs": []
    },
    {
      "cell_type": "code",
      "metadata": {
        "id": "pYY63LTgFFtP"
      },
      "source": [
        "test_df.to_csv(\"test_df.csv\")"
      ],
      "execution_count": null,
      "outputs": []
    },
    {
      "cell_type": "markdown",
      "metadata": {
        "_cell_guid": "5b91437e-845e-4e3f-a20e-19db3d7a8540",
        "_uuid": "52d1886521f05ac5043ef734d94aadf59cc7a073",
        "id": "ITSpCmiHFFtT"
      },
      "source": [
        "##8/ Tách label và feature:"
      ]
    },
    {
      "cell_type": "code",
      "metadata": {
        "_cell_guid": "2fdafbf3-62cc-4365-8168-7e149f8b51f0",
        "_uuid": "94e2b9da92605974f2e7575f85b10abf98a0d6b4",
        "id": "yAX9og_CFFtT"
      },
      "source": [
        "X = train_df.drop('Survived', 1)\n",
        "y = train_df['Survived']\n",
        "X_test = test_df.copy()"
      ],
      "execution_count": null,
      "outputs": []
    },
    {
      "cell_type": "markdown",
      "metadata": {
        "_cell_guid": "84ece816-177c-473e-92ae-620c5fe50be6",
        "_uuid": "fd73849d6b1805fa835b1031a1e2e812e0ef68e3",
        "id": "kFP4oeyjFFtW"
      },
      "source": [
        "##9/ Scaling features"
      ]
    },
    {
      "cell_type": "code",
      "metadata": {
        "_cell_guid": "6f077d59-c48d-41b2-82b2-7cd325ed4aab",
        "_uuid": "fc95cee7c61fee94005453e2b97598f69267ca29",
        "id": "-iU84wUtFFtW"
      },
      "source": [
        "std_scaler = StandardScaler()\n",
        "X = std_scaler.fit_transform(X)\n",
        "X_test = std_scaler.transform(X_test)"
      ],
      "execution_count": null,
      "outputs": []
    },
    {
      "cell_type": "markdown",
      "metadata": {
        "id": "aROUArdWJnT1"
      },
      "source": [
        "#**III/ BUILD MODEL** "
      ]
    },
    {
      "cell_type": "markdown",
      "metadata": {
        "id": "Xzs0r06CJzol"
      },
      "source": [
        "ở bước này, build model dựa trên X, y. Dự đoán trên tập dữ liệu X_test. (Hai cell liền trên)\n",
        "\n",
        "Sử dụng độ đo **Accuracy** để đánh giá mô hình"
      ]
    },
    {
      "cell_type": "markdown",
      "metadata": {
        "id": "YWtvm1LfIVEs"
      },
      "source": [
        "## kNN"
      ]
    },
    {
      "cell_type": "code",
      "metadata": {
        "_cell_guid": "0baa26fd-c625-44a0-9411-b2479ace87ab",
        "_uuid": "670108e53958cb3378a2d7f35043c698cedb05be",
        "id": "PHEfnjgzFFtY",
        "colab": {
          "base_uri": "https://localhost:8080/",
          "height": 134
        },
        "outputId": "fa08838e-bc6e-403c-b220-9a36f5e12cb6"
      },
      "source": [
        "n_neighbors = [1,2,3,4,5,6]\n",
        "algorithm = ['auto']\n",
        "weights = ['uniform', 'distance']\n",
        "p=[2]\n",
        "leaf_size =list(range(26,37,2))\n",
        "hyperparams = {'algorithm': algorithm, 'weights': weights, 'leaf_size': leaf_size, \n",
        "               'n_neighbors': n_neighbors, 'p': p}\n",
        "gd_KNN=GridSearchCV(estimator = KNeighborsClassifier(), param_grid = hyperparams, verbose=True, \n",
        "                cv=10, scoring = \"roc_auc\")\n",
        "gd_KNN.fit(X, y)\n",
        "print(gd_KNN.best_score_)\n",
        "print(gd_KNN.best_estimator_)"
      ],
      "execution_count": null,
      "outputs": [
        {
          "output_type": "stream",
          "text": [
            "Fitting 10 folds for each of 72 candidates, totalling 720 fits\n"
          ],
          "name": "stdout"
        },
        {
          "output_type": "stream",
          "text": [
            "[Parallel(n_jobs=1)]: Using backend SequentialBackend with 1 concurrent workers.\n"
          ],
          "name": "stderr"
        },
        {
          "output_type": "stream",
          "text": [
            "0.860770874006168\n",
            "KNeighborsClassifier(algorithm='auto', leaf_size=26, metric='minkowski',\n",
            "                     metric_params=None, n_jobs=None, n_neighbors=6, p=2,\n",
            "                     weights='uniform')\n"
          ],
          "name": "stdout"
        },
        {
          "output_type": "stream",
          "text": [
            "[Parallel(n_jobs=1)]: Done 720 out of 720 | elapsed:    3.1s finished\n"
          ],
          "name": "stderr"
        }
      ]
    },
    {
      "cell_type": "markdown",
      "metadata": {
        "_cell_guid": "b91368fc-7671-497c-bea2-bba3b857633c",
        "_uuid": "f2170452b8a8f2fa89f4b5e9bb221e488bf42282",
        "id": "oSDh1ILFFFtf"
      },
      "source": [
        " - **Sử dụng grid searching để tìm thông số mô hình huấn luyện tốt nhất**"
      ]
    },
    {
      "cell_type": "code",
      "metadata": {
        "id": "cU8LXyQq-iDN",
        "colab": {
          "base_uri": "https://localhost:8080/",
          "height": 34
        },
        "outputId": "f90fa8b8-900c-484c-d7da-9032a4528184"
      },
      "source": [
        "gd_KNN.best_estimator_.fit(X, y)\n",
        "y_pred=gd_KNN.best_estimator_.predict(X)\n",
        "y_true=y.values\n",
        "acc_knn=accuracy_score(y_true,y_pred)\n",
        "acc_knn"
      ],
      "execution_count": null,
      "outputs": [
        {
          "output_type": "execute_result",
          "data": {
            "text/plain": [
              "0.8574635241301908"
            ]
          },
          "metadata": {
            "tags": []
          },
          "execution_count": 31
        }
      ]
    },
    {
      "cell_type": "markdown",
      "metadata": {
        "id": "_YNusz3tFFtj"
      },
      "source": [
        "## RandomForest"
      ]
    },
    {
      "cell_type": "markdown",
      "metadata": {
        "id": "iSaqoP20Llxa"
      },
      "source": [
        "- **Hyperparams RandomForest**"
      ]
    },
    {
      "cell_type": "code",
      "metadata": {
        "id": "arqm_RYbLrpg"
      },
      "source": [
        "#Hyperparameter Tune with GridSearchCV: http://scikit-learn.org/stable/modules/generated/sklearn.model_selection.GridSearchCV.html\n",
        "grid_n_estimator = [10, 20,30,40,50]\n",
        "grid_ratio = [.1, .2, .3, .4, .5]\n",
        "grid_learn = [.01, .02, .03, .04, .05]\n",
        "grid_max_depth = [1, 2,3,4,5]\n",
        "grid_min_samples = [.01, .02, .03, .04, .05]\n",
        "grid_criterion = ['gini', 'entropy']\n",
        "grid_bool = [True, False]\n",
        "grid_seed = [0]"
      ],
      "execution_count": null,
      "outputs": []
    },
    {
      "cell_type": "code",
      "metadata": {
        "id": "OMhi5VdjL2u9"
      },
      "source": [
        "hyperparams={\n",
        "            #RandomForestClassifier \n",
        "            'n_estimators': grid_n_estimator, #default=10\n",
        "            'criterion': grid_criterion, #default=”gini”\n",
        "            'max_depth': grid_max_depth, #default=None\n",
        "            'oob_score': [True], #default=False -- 12/31/17 set to reduce runtime -- The best parameter for RandomForestClassifier is {'criterion': 'entropy', 'max_depth': 6, 'n_estimators': 100, 'oob_score': True, 'random_state': 0} with a runtime of 146.35 seconds.\n",
        "            'random_state': grid_seed\n",
        "             }\n",
        "gd_RF=GridSearchCV(estimator = RandomForestClassifier(), param_grid = hyperparams, verbose=True, \n",
        "                cv=10, scoring = \"roc_auc\")\n",
        "gd_RF.fit(X, y)\n",
        "print(gd_RF.best_score_)\n",
        "print(gd_RF.best_estimator_)"
      ],
      "execution_count": null,
      "outputs": []
    },
    {
      "cell_type": "markdown",
      "metadata": {
        "id": "4kOmQbFcRWk3"
      },
      "source": [
        "- **Sử dụng grid searching để tìm thông số mô hình huấn luyện tốt nhất**"
      ]
    },
    {
      "cell_type": "code",
      "metadata": {
        "id": "MwHYlwKFFFtn",
        "colab": {
          "base_uri": "https://localhost:8080/",
          "height": 34
        },
        "outputId": "d70a1e42-45b8-491f-e2cc-3a11d24cadec"
      },
      "source": [
        "gd_RF.best_estimator_.fit(X, y)\n",
        "y_red=gd_RF.best_estimator_.predict(X)\n",
        "y_true=y.values\n",
        "acc_RF=accuracy_score(y_true,y_red)\n",
        "acc_RF"
      ],
      "execution_count": null,
      "outputs": [
        {
          "output_type": "execute_result",
          "data": {
            "text/plain": [
              "0.856341189674523"
            ]
          },
          "metadata": {
            "tags": []
          },
          "execution_count": 34
        }
      ]
    },
    {
      "cell_type": "markdown",
      "metadata": {
        "id": "7a_MN-P_I2Cd"
      },
      "source": [
        "## Decision Tree"
      ]
    },
    {
      "cell_type": "markdown",
      "metadata": {
        "id": "sBi62yvTP_nu"
      },
      "source": [
        "- **Hyperparams**"
      ]
    },
    {
      "cell_type": "code",
      "metadata": {
        "id": "t2mFEdgvQCn0"
      },
      "source": [
        "hyperparams={\n",
        "            'criterion': grid_criterion,\n",
        "            'max_depth': [1,2], #default 2,\n",
        "            'random_state': grid_seed}"
      ],
      "execution_count": null,
      "outputs": []
    },
    {
      "cell_type": "code",
      "metadata": {
        "id": "87UTGqLeeKSZ",
        "colab": {
          "base_uri": "https://localhost:8080/",
          "height": 185
        },
        "outputId": "9239a9fe-c7e0-4d02-d538-ce4e0d6031b2"
      },
      "source": [
        "gd_DT=GridSearchCV(estimator = DecisionTreeClassifier(), param_grid = hyperparams, verbose=True, \n",
        "                cv=10, scoring = \"roc_auc\")\n",
        "gd_DT.fit(X, y)\n",
        "print(gd_DT.best_score_)\n",
        "print(gd_DT.best_estimator_)"
      ],
      "execution_count": null,
      "outputs": [
        {
          "output_type": "stream",
          "text": [
            "[Parallel(n_jobs=1)]: Using backend SequentialBackend with 1 concurrent workers.\n"
          ],
          "name": "stderr"
        },
        {
          "output_type": "stream",
          "text": [
            "Fitting 10 folds for each of 4 candidates, totalling 40 fits\n",
            "0.8535145573380867\n",
            "DecisionTreeClassifier(ccp_alpha=0.0, class_weight=None, criterion='gini',\n",
            "                       max_depth=2, max_features=None, max_leaf_nodes=None,\n",
            "                       min_impurity_decrease=0.0, min_impurity_split=None,\n",
            "                       min_samples_leaf=1, min_samples_split=2,\n",
            "                       min_weight_fraction_leaf=0.0, presort='deprecated',\n",
            "                       random_state=0, splitter='best')\n"
          ],
          "name": "stdout"
        },
        {
          "output_type": "stream",
          "text": [
            "[Parallel(n_jobs=1)]: Done  40 out of  40 | elapsed:    0.1s finished\n"
          ],
          "name": "stderr"
        }
      ]
    },
    {
      "cell_type": "markdown",
      "metadata": {
        "id": "cq2UsYiUeZCB"
      },
      "source": [
        "- **Sử dụng grid searching để tìm thông số mô hình huấn luyện tốt nhất**"
      ]
    },
    {
      "cell_type": "code",
      "metadata": {
        "id": "1-a4ccFJDRI8",
        "colab": {
          "base_uri": "https://localhost:8080/",
          "height": 34
        },
        "outputId": "7c4a103d-6677-4b67-eda8-45da61c298e6"
      },
      "source": [
        "gd_DT.best_estimator_.fit(X, y)\n",
        "y_pred=gd_DT.best_estimator_.predict(X)\n",
        "y_true=y.values\n",
        "acc_DT=accuracy_score(y_true,y_pred)\n",
        "acc_DT"
      ],
      "execution_count": null,
      "outputs": [
        {
          "output_type": "execute_result",
          "data": {
            "text/plain": [
              "0.8338945005611672"
            ]
          },
          "metadata": {
            "tags": []
          },
          "execution_count": 37
        }
      ]
    },
    {
      "cell_type": "markdown",
      "metadata": {
        "id": "8PFtjpnkI97s"
      },
      "source": [
        "## SVM"
      ]
    },
    {
      "cell_type": "markdown",
      "metadata": {
        "id": "ge6Lj-bzPRP_"
      },
      "source": [
        "- **HyperParams**"
      ]
    },
    {
      "cell_type": "code",
      "metadata": {
        "id": "m30H0okDPWKz"
      },
      "source": [
        "hyperparams={'C': [1,2,3,4,5], #default=1.0\n",
        "            'gamma': grid_ratio, #edfault: auto\n",
        "            'decision_function_shape': ['ovo', 'ovr'], #default:ovr\n",
        "            'probability': [True],\n",
        "            'random_state': grid_seed}"
      ],
      "execution_count": null,
      "outputs": []
    },
    {
      "cell_type": "code",
      "metadata": {
        "id": "8fyGwGnqPhYL",
        "colab": {
          "base_uri": "https://localhost:8080/",
          "height": 151
        },
        "outputId": "351d6228-0ef2-46a5-b8f8-2c07c9dcc6b5"
      },
      "source": [
        "gd_SVC=GridSearchCV(estimator = SVC(), param_grid = hyperparams, verbose=True, \n",
        "                cv=4, scoring = \"roc_auc\")\n",
        "gd_SVC.fit(X, y)\n",
        "print(gd_SVC.best_score_)\n",
        "print(gd_SVC.best_estimator_)"
      ],
      "execution_count": null,
      "outputs": [
        {
          "output_type": "stream",
          "text": [
            "Fitting 4 folds for each of 50 candidates, totalling 200 fits\n"
          ],
          "name": "stdout"
        },
        {
          "output_type": "stream",
          "text": [
            "[Parallel(n_jobs=1)]: Using backend SequentialBackend with 1 concurrent workers.\n"
          ],
          "name": "stderr"
        },
        {
          "output_type": "stream",
          "text": [
            "0.879848532078135\n",
            "SVC(C=1, break_ties=False, cache_size=200, class_weight=None, coef0=0.0,\n",
            "    decision_function_shape='ovo', degree=3, gamma=0.1, kernel='rbf',\n",
            "    max_iter=-1, probability=True, random_state=0, shrinking=True, tol=0.001,\n",
            "    verbose=False)\n"
          ],
          "name": "stdout"
        },
        {
          "output_type": "stream",
          "text": [
            "[Parallel(n_jobs=1)]: Done 200 out of 200 | elapsed:   11.5s finished\n"
          ],
          "name": "stderr"
        }
      ]
    },
    {
      "cell_type": "markdown",
      "metadata": {
        "id": "VQuJvzU5S-T9"
      },
      "source": [
        "**Sử dụng grid searching để tìm thông số mô hình huấn luyện tốt nhất**"
      ]
    },
    {
      "cell_type": "code",
      "metadata": {
        "id": "0FH19X6LEoZf",
        "colab": {
          "base_uri": "https://localhost:8080/",
          "height": 34
        },
        "outputId": "40493eae-5ff9-41cd-d9b4-dcfce32bd6dc"
      },
      "source": [
        "gd_SVC.best_estimator_.fit(X, y)\n",
        "y_pred=gd_SVC.best_estimator_.predict(X)\n",
        "y_true=y.values\n",
        "acc_SVC=accuracy_score(y_true,y_pred)\n",
        "acc_SVC"
      ],
      "execution_count": null,
      "outputs": [
        {
          "output_type": "execute_result",
          "data": {
            "text/plain": [
              "0.8540965207631874"
            ]
          },
          "metadata": {
            "tags": []
          },
          "execution_count": 40
        }
      ]
    },
    {
      "cell_type": "markdown",
      "metadata": {
        "id": "K0Nb9TUGJC1E"
      },
      "source": [
        "## XGB"
      ]
    },
    {
      "cell_type": "markdown",
      "metadata": {
        "id": "oENOZllFSGR4"
      },
      "source": [
        "- **HyperParams**"
      ]
    },
    {
      "cell_type": "code",
      "metadata": {
        "id": "YS_D-JRgSG8w"
      },
      "source": [
        "hyperpagrams={\n",
        "            #XGBClassifier - http://xgboost.readthedocs.io/en/latest/parameter.html\n",
        "            'learning_rate': grid_learn, #default: .3\n",
        "            'max_depth': [1,5,10,15,20], #default 2\n",
        "            'n_estimators': grid_n_estimator, \n",
        "            'seed': grid_seed  \n",
        "             }"
      ],
      "execution_count": null,
      "outputs": []
    },
    {
      "cell_type": "code",
      "metadata": {
        "id": "ZGjsh-29SObc",
        "colab": {
          "base_uri": "https://localhost:8080/",
          "height": 218
        },
        "outputId": "9f3f56fc-1c7b-4418-d40a-8f94d35f24a1"
      },
      "source": [
        "gd_XGB=GridSearchCV(estimator = XGBClassifier(), param_grid = hyperparams, verbose=True, \n",
        "                cv=10, scoring = \"roc_auc\")\n",
        "gd_XGB.fit(X, y)\n",
        "print(gd_XGB.best_score_)\n",
        "print(gd_XGB.best_estimator_)"
      ],
      "execution_count": null,
      "outputs": [
        {
          "output_type": "stream",
          "text": [
            "Fitting 10 folds for each of 50 candidates, totalling 500 fits\n"
          ],
          "name": "stdout"
        },
        {
          "output_type": "stream",
          "text": [
            "[Parallel(n_jobs=1)]: Using backend SequentialBackend with 1 concurrent workers.\n"
          ],
          "name": "stderr"
        },
        {
          "output_type": "stream",
          "text": [
            "0.8956086636674874\n",
            "XGBClassifier(C=1, base_score=0.5, booster='gbtree', colsample_bylevel=1,\n",
            "              colsample_bynode=1, colsample_bytree=1,\n",
            "              decision_function_shape='ovo', gamma=0.5, learning_rate=0.1,\n",
            "              max_delta_step=0, max_depth=3, min_child_weight=1, missing=None,\n",
            "              n_estimators=100, n_jobs=1, nthread=None,\n",
            "              objective='binary:logistic', probability=True, random_state=0,\n",
            "              reg_alpha=0, reg_lambda=1, scale_pos_weight=1, seed=None,\n",
            "              silent=None, subsample=1, verbosity=1)\n"
          ],
          "name": "stdout"
        },
        {
          "output_type": "stream",
          "text": [
            "[Parallel(n_jobs=1)]: Done 500 out of 500 | elapsed:   21.2s finished\n"
          ],
          "name": "stderr"
        }
      ]
    },
    {
      "cell_type": "markdown",
      "metadata": {
        "id": "JgH-_j43TVWc"
      },
      "source": [
        "- **Sử dụng grid searching để tìm thông số mô hình huấn luyện tốt nhất**"
      ]
    },
    {
      "cell_type": "code",
      "metadata": {
        "id": "2_LPZVhwFffK",
        "colab": {
          "base_uri": "https://localhost:8080/",
          "height": 34
        },
        "outputId": "c932cf91-205d-4e22-b9c5-25b841858c16"
      },
      "source": [
        "gd_XGB.best_estimator_.fit(X, y)\n",
        "y_pred=gd_XGB.best_estimator_.predict(X)\n",
        "y_true=y.values\n",
        "acc_XGB=accuracy_score(y_true,y_pred)\n",
        "acc_XGB"
      ],
      "execution_count": null,
      "outputs": [
        {
          "output_type": "execute_result",
          "data": {
            "text/plain": [
              "0.8552188552188552"
            ]
          },
          "metadata": {
            "tags": []
          },
          "execution_count": 43
        }
      ]
    },
    {
      "cell_type": "markdown",
      "metadata": {
        "id": "JBTOaiE5VAdG"
      },
      "source": [
        "#**IV/ Đánh giá**"
      ]
    },
    {
      "cell_type": "code",
      "metadata": {
        "id": "6pVbbhxvVJDV",
        "colab": {
          "base_uri": "https://localhost:8080/",
          "height": 195
        },
        "outputId": "3ddcc224-8c5c-453b-f7ec-8c490a2d914a"
      },
      "source": [
        "models = pd.DataFrame({\n",
        "    'Model': ['Support Vector Machines', 'KNN',\n",
        "              'Random Forest', 'Decision Tree','XGBClassifier'],\n",
        "    'Score': [acc_SVC, acc_knn, acc_RF, acc_DT,acc_XGB]})\n",
        "sorted_model=models.sort_values(by='Score', ascending=False)\n",
        "sorted_model"
      ],
      "execution_count": null,
      "outputs": [
        {
          "output_type": "execute_result",
          "data": {
            "text/html": [
              "<div>\n",
              "<style scoped>\n",
              "    .dataframe tbody tr th:only-of-type {\n",
              "        vertical-align: middle;\n",
              "    }\n",
              "\n",
              "    .dataframe tbody tr th {\n",
              "        vertical-align: top;\n",
              "    }\n",
              "\n",
              "    .dataframe thead th {\n",
              "        text-align: right;\n",
              "    }\n",
              "</style>\n",
              "<table border=\"1\" class=\"dataframe\">\n",
              "  <thead>\n",
              "    <tr style=\"text-align: right;\">\n",
              "      <th></th>\n",
              "      <th>Model</th>\n",
              "      <th>Score</th>\n",
              "    </tr>\n",
              "  </thead>\n",
              "  <tbody>\n",
              "    <tr>\n",
              "      <th>1</th>\n",
              "      <td>KNN</td>\n",
              "      <td>0.857464</td>\n",
              "    </tr>\n",
              "    <tr>\n",
              "      <th>2</th>\n",
              "      <td>Random Forest</td>\n",
              "      <td>0.856341</td>\n",
              "    </tr>\n",
              "    <tr>\n",
              "      <th>4</th>\n",
              "      <td>XGBClassifier</td>\n",
              "      <td>0.855219</td>\n",
              "    </tr>\n",
              "    <tr>\n",
              "      <th>0</th>\n",
              "      <td>Support Vector Machines</td>\n",
              "      <td>0.854097</td>\n",
              "    </tr>\n",
              "    <tr>\n",
              "      <th>3</th>\n",
              "      <td>Decision Tree</td>\n",
              "      <td>0.833895</td>\n",
              "    </tr>\n",
              "  </tbody>\n",
              "</table>\n",
              "</div>"
            ],
            "text/plain": [
              "                     Model     Score\n",
              "1                      KNN  0.857464\n",
              "2            Random Forest  0.856341\n",
              "4            XGBClassifier  0.855219\n",
              "0  Support Vector Machines  0.854097\n",
              "3            Decision Tree  0.833895"
            ]
          },
          "metadata": {
            "tags": []
          },
          "execution_count": 44
        }
      ]
    },
    {
      "cell_type": "code",
      "metadata": {
        "id": "8YEAjd5YVYVh"
      },
      "source": [
        "'''plt.figure(figsize=(15,7))\n",
        "fig = plt.bar(sorted_model['Model'], sorted_model['Score'],color='aqua')\n",
        "plt.grid()\n",
        "plt.show()'''"
      ],
      "execution_count": null,
      "outputs": []
    },
    {
      "cell_type": "code",
      "metadata": {
        "id": "dsqIEP6SS290"
      },
      "source": [
        "gd_KNN.best_estimator_.fit(X, y)\n",
        "y_pred = gd_KNN.best_estimator_.predict(X_test)\n",
        "temp = pd.DataFrame(pd.read_csv(\"test.csv\")['PassengerId'])\n",
        "temp['Survived'] = y_pred\n",
        "temp.to_csv(\"submissionKNN.csv\", index = False)"
      ],
      "execution_count": null,
      "outputs": []
    },
    {
      "cell_type": "markdown",
      "metadata": {
        "id": "_oLbKy6FUABZ"
      },
      "source": [
        "Tham khảo:\n",
        "\n",
        "https://github.com/minsuk-heo/kaggle-titanic\n",
        "\n",
        "https://www.kaggle.com/shunjiangxu/blood-is-thicker-than-water-friendship-forever\n",
        "\n",
        "https://www.kaggle.com/vincentlugat/200-lines-randomized-search-lgbm-82-3/output?fbclid=IwAR3rNwKO5P3l3X3MNddqaROUSSYhRbHpdqSd9vzuepOXVpPefkLHvelCmdE"
      ]
    }
  ]
}